{
 "cells": [
  {
   "cell_type": "code",
   "execution_count": 19,
   "metadata": {},
   "outputs": [
    {
     "name": "stdout",
     "output_type": "stream",
     "text": [
      "랜덤 추출된 단어: ['최초', '향촌', '전국', '온오프라인', '매입한']\n",
      "유사도가 높은 10개의 크리에이터:\n",
      "         크리에이터명                                               아이템명       유사도\n",
      "6      주식회사 지웍스  ▶ “대구 팔공산 왕건 사과빵 개발” - 100년된 대구 팔공산 왕건길 이야기와 평...  4.085760\n",
      "10      (주)메디프랜  ▶ “대구 반야월지역 연근 추출물을 사용한 메디시티 대구 천연치약 제조 판매” - ...  3.396498\n",
      "3          와룡총각  ▶ “한돈 능이버섯 수제 떡갈비” - 대구 와룡시장의 식자재를 활용한 다양한 종류의...  3.321757\n",
      "7            지야  ▶ “판매되지 못한 대구 로컬 섬유 제품을 활용한 업사이클링 데스크테리어 제품 개발...  3.289429\n",
      "5   주식회사 먼데인먼데이  ▶ “빅 데이터 기반 현대인 발 형태에 최적화된 신규 사이즈 체계 적용 맞춤 구두”...  2.821162\n",
      "24         루프세터  ▶ 대구 최초 백화점 ‘무영당’의 역사를 계승하는 ‘인터렉티브 미디어 아트’ 콘텐츠...  2.801497\n",
      "33        디스모먼트  로컬 폐기솜을 활용한 다견가정, 중대형견을 위한 전용 카시트 - 전국 침구(이불)제...  2.755146\n",
      "14        그린페이스  ▶ “우범 지대였던 대구 두류공원을 동화속 소풍을 컨셉으로 체험서비스제공” - 대구...  0.000000\n",
      "13     가게(GAGE)  ▶ “대구 안경산업 인프라를 활용하여 제조한 멀티안구 적용가능한 초기능성 안전 안경...  0.000000\n",
      "12   cmnmstudio  ▶ “대구 원단업체와 대구 디자이너를 연결하여 대구패션 협업 생태계 구축” - 대구...  0.000000\n"
     ]
    },
    {
     "name": "stderr",
     "output_type": "stream",
     "text": [
      "/var/folders/5c/_d3k15dx5sx7j_rn5lcmwyqr0000gn/T/ipykernel_83339/2615529965.py:30: SettingWithCopyWarning: \n",
      "A value is trying to be set on a copy of a slice from a DataFrame.\n",
      "Try using .loc[row_indexer,col_indexer] = value instead\n",
      "\n",
      "See the caveats in the documentation: https://pandas.pydata.org/pandas-docs/stable/user_guide/indexing.html#returning-a-view-versus-a-copy\n",
      "  top_creators['유사도'] = similarity_scores[top_indices] * 100\n"
     ]
    },
    {
     "data": {
      "text/html": [
       "<div>\n",
       "<style scoped>\n",
       "    .dataframe tbody tr th:only-of-type {\n",
       "        vertical-align: middle;\n",
       "    }\n",
       "\n",
       "    .dataframe tbody tr th {\n",
       "        vertical-align: top;\n",
       "    }\n",
       "\n",
       "    .dataframe thead th {\n",
       "        text-align: right;\n",
       "    }\n",
       "</style>\n",
       "<table border=\"1\" class=\"dataframe\">\n",
       "  <thead>\n",
       "    <tr style=\"text-align: right;\">\n",
       "      <th></th>\n",
       "      <th>크리에이터명</th>\n",
       "      <th>아이템명</th>\n",
       "      <th>유사도</th>\n",
       "    </tr>\n",
       "  </thead>\n",
       "  <tbody>\n",
       "    <tr>\n",
       "      <th>6</th>\n",
       "      <td>주식회사 지웍스</td>\n",
       "      <td>▶ “대구 팔공산 왕건 사과빵 개발” - 100년된 대구 팔공산 왕건길 이야기와 평...</td>\n",
       "      <td>4.085760</td>\n",
       "    </tr>\n",
       "    <tr>\n",
       "      <th>10</th>\n",
       "      <td>(주)메디프랜</td>\n",
       "      <td>▶ “대구 반야월지역 연근 추출물을 사용한 메디시티 대구 천연치약 제조 판매” - ...</td>\n",
       "      <td>3.396498</td>\n",
       "    </tr>\n",
       "    <tr>\n",
       "      <th>3</th>\n",
       "      <td>와룡총각</td>\n",
       "      <td>▶ “한돈 능이버섯 수제 떡갈비” - 대구 와룡시장의 식자재를 활용한 다양한 종류의...</td>\n",
       "      <td>3.321757</td>\n",
       "    </tr>\n",
       "    <tr>\n",
       "      <th>7</th>\n",
       "      <td>지야</td>\n",
       "      <td>▶ “판매되지 못한 대구 로컬 섬유 제품을 활용한 업사이클링 데스크테리어 제품 개발...</td>\n",
       "      <td>3.289429</td>\n",
       "    </tr>\n",
       "    <tr>\n",
       "      <th>5</th>\n",
       "      <td>주식회사 먼데인먼데이</td>\n",
       "      <td>▶ “빅 데이터 기반 현대인 발 형태에 최적화된 신규 사이즈 체계 적용 맞춤 구두”...</td>\n",
       "      <td>2.821162</td>\n",
       "    </tr>\n",
       "  </tbody>\n",
       "</table>\n",
       "</div>"
      ],
      "text/plain": [
       "         크리에이터명                                               아이템명       유사도\n",
       "6      주식회사 지웍스  ▶ “대구 팔공산 왕건 사과빵 개발” - 100년된 대구 팔공산 왕건길 이야기와 평...  4.085760\n",
       "10      (주)메디프랜  ▶ “대구 반야월지역 연근 추출물을 사용한 메디시티 대구 천연치약 제조 판매” - ...  3.396498\n",
       "3          와룡총각  ▶ “한돈 능이버섯 수제 떡갈비” - 대구 와룡시장의 식자재를 활용한 다양한 종류의...  3.321757\n",
       "7            지야  ▶ “판매되지 못한 대구 로컬 섬유 제품을 활용한 업사이클링 데스크테리어 제품 개발...  3.289429\n",
       "5   주식회사 먼데인먼데이  ▶ “빅 데이터 기반 현대인 발 형태에 최적화된 신규 사이즈 체계 적용 맞춤 구두”...  2.821162"
      ]
     },
     "execution_count": 19,
     "metadata": {},
     "output_type": "execute_result"
    }
   ],
   "source": [
    "import json\n",
    "import random\n",
    "import pandas as pd\n",
    "from sklearn.feature_extraction.text import TfidfVectorizer\n",
    "from sklearn.metrics.pairwise import cosine_similarity\n",
    "\n",
    "# JSON 파일 읽기\n",
    "with open('./noun_frequencies.json', 'r', encoding='utf-8') as file:\n",
    "    noun_frequencies = json.load(file)\n",
    "\n",
    "# 5개의 단어 랜덤 추출\n",
    "random_nouns = random.sample(list(noun_frequencies.keys()), 5)\n",
    "print(\"랜덤 추출된 단어:\", random_nouns)\n",
    "\n",
    "# 크리에이터 데이터프레임 읽기\n",
    "df = pd.read_csv('./DataFrame2.csv')\n",
    "\n",
    "# '아이템명' 열과 랜덤 추출된 단어들의 유사도 계산\n",
    "new_df = df[['크리에이터명', '아이템명']]\n",
    "vectorizer = TfidfVectorizer()\n",
    "tfidf_matrix = vectorizer.fit_transform(new_df['아이템명'].tolist() + random_nouns)\n",
    "cosine_sim = cosine_similarity(tfidf_matrix[-len(random_nouns):], tfidf_matrix[:-len(random_nouns)])\n",
    "\n",
    "# 유사도가 높은 10개의 크리에이터 추출\n",
    "similarity_scores = cosine_sim.mean(axis=0)\n",
    "top_indices = similarity_scores.argsort()[-10:][::-1]\n",
    "top_creators = new_df.iloc[top_indices]\n",
    "\n",
    "# 유사도 점수를 퍼센트로 변환하여 데이터프레임에 추가\n",
    "top_creators['유사도'] = similarity_scores[top_indices] * 100\n",
    "\n",
    "print(\"유사도가 높은 10개의 크리에이터:\")\n",
    "print(top_creators)\n",
    "top_creators.head()"
   ]
  }
 ],
 "metadata": {
  "kernelspec": {
   "display_name": "Python 3",
   "language": "python",
   "name": "python3"
  },
  "language_info": {
   "codemirror_mode": {
    "name": "ipython",
    "version": 3
   },
   "file_extension": ".py",
   "mimetype": "text/x-python",
   "name": "python",
   "nbconvert_exporter": "python",
   "pygments_lexer": "ipython3",
   "version": "3.12.6"
  }
 },
 "nbformat": 4,
 "nbformat_minor": 2
}
